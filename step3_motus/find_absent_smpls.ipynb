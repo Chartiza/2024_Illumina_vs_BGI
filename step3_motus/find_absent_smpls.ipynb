{
 "cells": [
  {
   "cell_type": "code",
   "execution_count": 2,
   "metadata": {},
   "outputs": [],
   "source": [
    "# import packages\n",
    "import matplotlib.pyplot as plt\n",
    "import pandas as pd\n",
    "import seaborn as sns \n",
    "import numpy as np\n",
    "from matplotlib_venn import venn2\n",
    "from matplotlib_venn import venn3"
   ]
  },
  {
   "attachments": {},
   "cell_type": "markdown",
   "metadata": {},
   "source": [
    "## motus"
   ]
  },
  {
   "cell_type": "code",
   "execution_count": 5,
   "metadata": {},
   "outputs": [
    {
     "name": "stdout",
     "output_type": "stream",
     "text": [
      "Number of bad samples in BGI:  100\n",
      "Number of bad samples in Illumina:  57\n",
      "Number of common bad samples:  57\n",
      "Number of unique bad samples in BGI:  43\n",
      "Number of unique bad samples in Illumina:  0\n"
     ]
    }
   ],
   "source": [
    "bgi_bad = pd.read_csv(\"input/bgi_bad_list.csv\")\n",
    "ill_bad = pd.read_csv(\"input/ill_bad_list.csv\")\n",
    "\n",
    "# find common bad samples\n",
    "common_bad = pd.merge(bgi_bad, ill_bad, how='inner', on=['sample'])\n",
    "\n",
    "# find unique bad samples\n",
    "bgi_bad_unique = bgi_bad[~bgi_bad['sample'].isin(common_bad['sample'])]\n",
    "ill_bad_unique = ill_bad[~ill_bad['sample'].isin(common_bad['sample'])]\n",
    "\n",
    "print(\"Number of bad samples in BGI: \", len(bgi_bad))\n",
    "print(\"Number of bad samples in Illumina: \", len(ill_bad))\n",
    "print(\"Number of common bad samples: \", len(common_bad))\n",
    "print(\"Number of unique bad samples in BGI: \", len(bgi_bad_unique))\n",
    "print(\"Number of unique bad samples in Illumina: \", len(ill_bad_unique))\n",
    "\n",
    "bgi_bad_unique.to_csv(\"bgi_bad_unique.csv\", index=False)"
   ]
  },
  {
   "cell_type": "code",
   "execution_count": 8,
   "metadata": {},
   "outputs": [
    {
     "name": "stdout",
     "output_type": "stream",
     "text": [
      "Number of good samples in BGI:  99\n",
      "Number of good samples in Illumina:  35\n",
      "Number of common good samples:  35\n",
      "Number of unique good samples in BGI:  64\n",
      "Number of unique good samples in Illumina:  0\n"
     ]
    }
   ],
   "source": [
    "bgi_good = pd.read_csv(\"input/bgi_good_list.csv\")\n",
    "ill_good = pd.read_csv(\"input/ill_good_list.csv\")\n",
    "\n",
    "# find common good samples\n",
    "common_good = pd.merge(bgi_good, ill_good, how='inner', on=['sample'])\n",
    "\n",
    "# find unique good samples\n",
    "bgi_good_unique = bgi_good[~bgi_good['sample'].isin(common_good['sample'])]\n",
    "ill_good_unique = ill_good[~ill_good['sample'].isin(common_good['sample'])]\n",
    "\n",
    "print(\"Number of good samples in BGI: \", len(bgi_good))\n",
    "print(\"Number of good samples in Illumina: \", len(ill_good))\n",
    "print(\"Number of common good samples: \", len(common_good))\n",
    "print(\"Number of unique good samples in BGI: \", len(bgi_good_unique))\n",
    "print(\"Number of unique good samples in Illumina: \", len(ill_good_unique))\n",
    "\n",
    "bgi_good_unique.to_csv(\"bgi_good_unique.csv\", index=False)"
   ]
  },
  {
   "cell_type": "markdown",
   "metadata": {},
   "source": [
    "## jellyfish"
   ]
  },
  {
   "cell_type": "code",
   "execution_count": 26,
   "metadata": {},
   "outputs": [
    {
     "data": {
      "text/html": [
       "<div>\n",
       "<style scoped>\n",
       "    .dataframe tbody tr th:only-of-type {\n",
       "        vertical-align: middle;\n",
       "    }\n",
       "\n",
       "    .dataframe tbody tr th {\n",
       "        vertical-align: top;\n",
       "    }\n",
       "\n",
       "    .dataframe thead th {\n",
       "        text-align: right;\n",
       "    }\n",
       "</style>\n",
       "<table border=\"1\" class=\"dataframe\">\n",
       "  <thead>\n",
       "    <tr style=\"text-align: right;\">\n",
       "      <th></th>\n",
       "      <th>sample_path</th>\n",
       "      <th>sample</th>\n",
       "    </tr>\n",
       "  </thead>\n",
       "  <tbody>\n",
       "    <tr>\n",
       "      <th>5016</th>\n",
       "      <td>/gpfs/space/GI/GV/Projects/Microbiome/Illumina...</td>\n",
       "      <td>VZZW6V</td>\n",
       "    </tr>\n",
       "    <tr>\n",
       "      <th>5017</th>\n",
       "      <td>/gpfs/space/GI/GV/Projects/Microbiome/Illumina...</td>\n",
       "      <td>VZZW6V</td>\n",
       "    </tr>\n",
       "  </tbody>\n",
       "</table>\n",
       "</div>"
      ],
      "text/plain": [
       "                                            sample_path  sample\n",
       "5016  /gpfs/space/GI/GV/Projects/Microbiome/Illumina...  VZZW6V\n",
       "5017  /gpfs/space/GI/GV/Projects/Microbiome/Illumina...  VZZW6V"
      ]
     },
     "execution_count": 26,
     "metadata": {},
     "output_type": "execute_result"
    }
   ],
   "source": [
    "all_ill = pd.read_csv(\"input/all_ill_reads_list.csv\",header=None)\n",
    "all_ill.columns = ['sample_path']\n",
    "all_ill['sample'] = all_ill['sample_path'].str.split('/').str[-1].str.split('.').str[0]\n",
    "all_ill['sample'] = all_ill['sample'].str.split('_').str[1]\n",
    "all_ill['sample'] = all_ill['sample'].str.split('-').str[0]\n",
    "all_ill.tail(2)"
   ]
  },
  {
   "cell_type": "code",
   "execution_count": 30,
   "metadata": {},
   "outputs": [],
   "source": [
    "add_smpl = pd.read_csv(\"input/add_smpls_path.csv\", sep='/', header=None)\n",
    "add_smpl = add_smpl[16].to_frame()\n",
    "add_smpl.columns = ['sample']\n",
    "add_smpl['sample'] = add_smpl['sample']\n",
    "add_smpl['sample'] = add_smpl['sample'].str.split('_').str[0]\n",
    "add_smpl.to_csv(\"add_smpl.csv\", index=False)"
   ]
  },
  {
   "cell_type": "code",
   "execution_count": 31,
   "metadata": {},
   "outputs": [],
   "source": [
    "add_smpl.head(100).to_csv(\"add_smpl1.csv\", index=False, header=False)\n",
    "add_smpl.head(200).tail(100).to_csv(\"add_smpl2.csv\", index=False, header=False)\n",
    "add_smpl.head(300).tail(100).to_csv(\"add_smpl3.csv\", index=False, header=False)\n",
    "add_smpl.head(400).tail(100).to_csv(\"add_smpl4.csv\", index=False, header=False)\n",
    "add_smpl.head(500).tail(100).to_csv(\"add_smpl5.csv\", index=False, header=False)\n",
    "add_smpl.tail(92).to_csv(\"add_smpl6.csv\", index=False, header=False)"
   ]
  },
  {
   "cell_type": "code",
   "execution_count": 29,
   "metadata": {},
   "outputs": [
    {
     "data": {
      "text/plain": [
       "592"
      ]
     },
     "execution_count": 29,
     "metadata": {},
     "output_type": "execute_result"
    }
   ],
   "source": [
    "mrg = add_smpl.merge(all_ill, on='sample', how='inner')\n",
    "len(mrg['sample'].unique())\n"
   ]
  },
  {
   "cell_type": "markdown",
   "metadata": {},
   "source": [
    "## Bad samlpes withing bgi-bgi subset"
   ]
  },
  {
   "cell_type": "code",
   "execution_count": 35,
   "metadata": {},
   "outputs": [
    {
     "data": {
      "text/html": [
       "<div>\n",
       "<style scoped>\n",
       "    .dataframe tbody tr th:only-of-type {\n",
       "        vertical-align: middle;\n",
       "    }\n",
       "\n",
       "    .dataframe tbody tr th {\n",
       "        vertical-align: top;\n",
       "    }\n",
       "\n",
       "    .dataframe thead th {\n",
       "        text-align: right;\n",
       "    }\n",
       "</style>\n",
       "<table border=\"1\" class=\"dataframe\">\n",
       "  <thead>\n",
       "    <tr style=\"text-align: right;\">\n",
       "      <th></th>\n",
       "      <th>sample</th>\n",
       "    </tr>\n",
       "  </thead>\n",
       "  <tbody>\n",
       "    <tr>\n",
       "      <th>0</th>\n",
       "      <td>V09EVV</td>\n",
       "    </tr>\n",
       "    <tr>\n",
       "      <th>1</th>\n",
       "      <td>V0SVA4</td>\n",
       "    </tr>\n",
       "  </tbody>\n",
       "</table>\n",
       "</div>"
      ],
      "text/plain": [
       "   sample\n",
       "0  V09EVV\n",
       "1  V0SVA4"
      ]
     },
     "execution_count": 35,
     "metadata": {},
     "output_type": "execute_result"
    }
   ],
   "source": [
    "sb = pd.read_csv(\"input/samples_Bad.csv\",header=None)\n",
    "sb.columns = ['sample']\n",
    "sw = pd.read_csv(\"input/samples_Wrs.csv\",header=None)\n",
    "sw.columns = ['sample']\n",
    "\n",
    "bb = pd.read_csv(\"input/Intra-Platform_smpls_list_54_sorted.csv\")\n",
    "bb.columns = ['sample']\n",
    "bb.head(2)"
   ]
  },
  {
   "cell_type": "code",
   "execution_count": 37,
   "metadata": {},
   "outputs": [
    {
     "data": {
      "text/plain": [
       "<matplotlib_venn._common.VennDiagram at 0x303553fd0>"
      ]
     },
     "execution_count": 37,
     "metadata": {},
     "output_type": "execute_result"
    },
    {
     "data": {
      "image/png": "[encoded data removed]",
      "text/plain": [
       "<Figure size 640x480 with 1 Axes>"
      ]
     },
     "metadata": {},
     "output_type": "display_data"
    }
   ],
   "source": [
    "# venn diagram\n",
    "venn2([set(sb['sample']), set(bb['sample'])], ('Bad', 'b-b smpls'))"
   ]
  },
  {
   "cell_type": "code",
   "execution_count": 39,
   "metadata": {},
   "outputs": [
    {
     "data": {
      "text/plain": [
       "{'V5IRLB'}"
      ]
     },
     "execution_count": 39,
     "metadata": {},
     "output_type": "execute_result"
    }
   ],
   "source": [
    "set(sb['sample']).intersection(set(bb['sample']))"
   ]
  },
  {
   "cell_type": "code",
   "execution_count": 38,
   "metadata": {},
   "outputs": [
    {
     "data": {
      "text/plain": [
       "<matplotlib_venn._common.VennDiagram at 0x30355c430>"
      ]
     },
     "execution_count": 38,
     "metadata": {},
     "output_type": "execute_result"
    },
    {
     "data": {
      "image/png": "[encoded data removed]",
      "text/plain": [
       "<Figure size 640x480 with 1 Axes>"
      ]
     },
     "metadata": {},
     "output_type": "display_data"
    }
   ],
   "source": [
    "venn2([set(sw['sample']), set(bb['sample'])], ('ugly', 'b-b smpls'))"
   ]
  },
  {
   "cell_type": "markdown",
   "metadata": {},
   "source": [
    "# filter out extra samples from motus results"
   ]
  },
  {
   "cell_type": "code",
   "execution_count": 20,
   "metadata": {},
   "outputs": [],
   "source": [
    "bw = pd.read_csv('../step1_Reads_quality_comparison_FASTQ/results/Sequence_Duplication_Levels_warn_bgi.txt')\n",
    "iw = pd.read_csv('../step1_Reads_quality_comparison_FASTQ/results/Sequence_Duplication_Levels_warn_ill.txt')\n",
    "wrn = pd.concat([bw, iw], axis=0)\n",
    "\n",
    "bfl = pd.read_csv('../step1_Reads_quality_comparison_FASTQ/results/Sequence_Duplication_Levels_fail_bgi.txt')\n",
    "ifl = pd.read_csv('../step1_Reads_quality_comparison_FASTQ/results/Sequence_Duplication_Levels_fail_ill.txt')\n",
    "fl = pd.concat([bfl, ifl], axis=0)\n",
    "\n",
    "nGood = pd.concat([wrn, fl], axis=0)\n",
    "\n",
    "bad = pd.read_csv('../step3_motus/input/samples_Bad.csv', header=None)\n",
    "bad.columns = ['Sample']\n",
    "wrs = pd.read_csv('../step3_motus/input/samples_Wrs.csv', header=None)\n",
    "wrs.columns = ['Sample']"
   ]
  },
  {
   "cell_type": "code",
   "execution_count": 21,
   "metadata": {},
   "outputs": [
    {
     "data": {
      "text/html": [
       "<div>\n",
       "<style scoped>\n",
       "    .dataframe tbody tr th:only-of-type {\n",
       "        vertical-align: middle;\n",
       "    }\n",
       "\n",
       "    .dataframe tbody tr th {\n",
       "        vertical-align: top;\n",
       "    }\n",
       "\n",
       "    .dataframe thead th {\n",
       "        text-align: right;\n",
       "    }\n",
       "</style>\n",
       "<table border=\"1\" class=\"dataframe\">\n",
       "  <thead>\n",
       "    <tr style=\"text-align: right;\">\n",
       "      <th></th>\n",
       "      <th>Filename</th>\n",
       "    </tr>\n",
       "  </thead>\n",
       "  <tbody>\n",
       "    <tr>\n",
       "      <th>0</th>\n",
       "      <td>VZIO94</td>\n",
       "    </tr>\n",
       "    <tr>\n",
       "      <th>1</th>\n",
       "      <td>VP8AMJ</td>\n",
       "    </tr>\n",
       "    <tr>\n",
       "      <th>2</th>\n",
       "      <td>V7MUGL</td>\n",
       "    </tr>\n",
       "    <tr>\n",
       "      <th>3</th>\n",
       "      <td>VDOUU6</td>\n",
       "    </tr>\n",
       "    <tr>\n",
       "      <th>4</th>\n",
       "      <td>VT1CWP</td>\n",
       "    </tr>\n",
       "    <tr>\n",
       "      <th>...</th>\n",
       "      <td>...</td>\n",
       "    </tr>\n",
       "    <tr>\n",
       "      <th>18</th>\n",
       "      <td>VHB2F2</td>\n",
       "    </tr>\n",
       "    <tr>\n",
       "      <th>19</th>\n",
       "      <td>VLZ378</td>\n",
       "    </tr>\n",
       "    <tr>\n",
       "      <th>20</th>\n",
       "      <td>VBPRL4</td>\n",
       "    </tr>\n",
       "    <tr>\n",
       "      <th>21</th>\n",
       "      <td>V7EM4L</td>\n",
       "    </tr>\n",
       "    <tr>\n",
       "      <th>0</th>\n",
       "      <td>VLZ378</td>\n",
       "    </tr>\n",
       "  </tbody>\n",
       "</table>\n",
       "<p>473 rows × 1 columns</p>\n",
       "</div>"
      ],
      "text/plain": [
       "   Filename\n",
       "0    VZIO94\n",
       "1    VP8AMJ\n",
       "2    V7MUGL\n",
       "3    VDOUU6\n",
       "4    VT1CWP\n",
       "..      ...\n",
       "18   VHB2F2\n",
       "19   VLZ378\n",
       "20   VBPRL4\n",
       "21   V7EM4L\n",
       "0    VLZ378\n",
       "\n",
       "[473 rows x 1 columns]"
      ]
     },
     "execution_count": 21,
     "metadata": {},
     "output_type": "execute_result"
    }
   ],
   "source": [
    "nGood['Filename']"
   ]
  },
  {
   "cell_type": "code",
   "execution_count": 42,
   "metadata": {},
   "outputs": [
    {
     "data": {
      "text/plain": [
       "set()"
      ]
     },
     "execution_count": 42,
     "metadata": {},
     "output_type": "execute_result"
    },
    {
     "data": {
      "image/png": "[encoded data removed]",
      "text/plain": [
       "<Figure size 640x480 with 1 Axes>"
      ]
     },
     "metadata": {},
     "output_type": "display_data"
    }
   ],
   "source": [
    "iBad = pd.read_csv(\"input/ill_motus_Bad_results.csv\")\n",
    "iBad = iBad.drop(columns=['V77S6P'])\n",
    "iBad_smpls = iBad.columns\n",
    "\n",
    "bBad = pd.read_csv(\"input/bgi_motus_Bad_results.csv\")\n",
    "bBad_smpls = bBad.columns\n",
    "\n",
    "venn2([set(iBad_smpls), set(nGood['Filename'])], ('ill', 'nGood'))\n",
    "set(iBad_smpls).intersection(set(nGood['Filename']))"
   ]
  },
  {
   "cell_type": "code",
   "execution_count": 43,
   "metadata": {},
   "outputs": [],
   "source": [
    "# exclude from results\n",
    "Bad_smpls = iBad_smpls[1:101]\n",
    "\n",
    "iBad.set_index('consensus_taxonomy', inplace=True)\n",
    "bBad.set_index('consensus_taxonomy', inplace=True)\n",
    "\n",
    "# left only columns in Bad_smpls\n",
    "iBad = iBad[Bad_smpls]\n",
    "bBad = bBad[Bad_smpls]\n",
    "\n",
    "iBad.to_csv(\"results/ill_motus_Bad_resultsF.csv\")\n",
    "bBad.to_csv(\"results/bgi_motus_Bad_resultsF.csv\")"
   ]
  },
  {
   "cell_type": "markdown",
   "metadata": {},
   "source": [
    "## Exclude wrn samples from 54 and 1990 final sets"
   ]
  },
  {
   "cell_type": "code",
   "execution_count": 46,
   "metadata": {},
   "outputs": [
    {
     "data": {
      "text/plain": [
       "54"
      ]
     },
     "execution_count": 46,
     "metadata": {},
     "output_type": "execute_result"
    }
   ],
   "source": [
    "intra = pd.read_csv(\"input/Intra-Platform_smpls_list_54_sorted.csv\", header=None)\n",
    "intra.columns = ['sample']\n",
    "\n",
    "len(intra)"
   ]
  },
  {
   "cell_type": "code",
   "execution_count": 47,
   "metadata": {},
   "outputs": [
    {
     "data": {
      "text/plain": [
       "1990"
      ]
     },
     "execution_count": 47,
     "metadata": {},
     "output_type": "execute_result"
    }
   ],
   "source": [
    "cross = pd.read_csv(\"input/Cross-Platform_smpls_list_1990_sorted.csv\", header=None)\n",
    "cross.columns = ['sample']\n",
    "\n",
    "len(cross)"
   ]
  },
  {
   "cell_type": "code",
   "execution_count": 48,
   "metadata": {},
   "outputs": [
    {
     "data": {
      "text/plain": [
       "set()"
      ]
     },
     "execution_count": 48,
     "metadata": {},
     "output_type": "execute_result"
    },
    {
     "data": {
      "image/png": "[encoded data removed]",
      "text/plain": [
       "<Figure size 640x480 with 1 Axes>"
      ]
     },
     "metadata": {},
     "output_type": "display_data"
    }
   ],
   "source": [
    "venn2([set(intra['sample']), set(nGood['Filename'])], ('ill', 'nGood'))\n",
    "set(intra['sample']).intersection(set(nGood['Filename']))"
   ]
  },
  {
   "cell_type": "code",
   "execution_count": 49,
   "metadata": {},
   "outputs": [
    {
     "data": {
      "text/plain": [
       "{'V03HFT',\n",
       " 'V0404P',\n",
       " 'V0BI0R',\n",
       " 'V0IQLM',\n",
       " 'V0L9VT',\n",
       " 'V0O0SI',\n",
       " 'V0W7HW',\n",
       " 'V0X3ZZ',\n",
       " 'V19CVF',\n",
       " 'V1C5D9',\n",
       " 'V1DVG1',\n",
       " 'V1EHS4',\n",
       " 'V1F5KO',\n",
       " 'V1FI7F',\n",
       " 'V1HQZB',\n",
       " 'V1OELW',\n",
       " 'V1SUTZ',\n",
       " 'V1WZON',\n",
       " 'V20PN5',\n",
       " 'V22M5I',\n",
       " 'V247S0',\n",
       " 'V25ZP5',\n",
       " 'V2930P',\n",
       " 'V2A14B',\n",
       " 'V2EKJ0',\n",
       " 'V2J7I2',\n",
       " 'V2O8PG',\n",
       " 'V3276M',\n",
       " 'V33DNK',\n",
       " 'V3B9IM',\n",
       " 'V3EQF3',\n",
       " 'V3H8VH',\n",
       " 'V3K654',\n",
       " 'V3V4R5',\n",
       " 'V3VRBX',\n",
       " 'V403E2',\n",
       " 'V40FOF',\n",
       " 'V412BS',\n",
       " 'V44S08',\n",
       " 'V47GD0',\n",
       " 'V49CSW',\n",
       " 'V4EROO',\n",
       " 'V4IZWO',\n",
       " 'V4OF9T',\n",
       " 'V4R2BO',\n",
       " 'V4RE1W',\n",
       " 'V4UTSV',\n",
       " 'V4X3XF',\n",
       " 'V53FDC',\n",
       " 'V54HHN',\n",
       " 'V55KOT',\n",
       " 'V5LLKT',\n",
       " 'V5YC9E',\n",
       " 'V5ZSBB',\n",
       " 'V601ZE',\n",
       " 'V6255X',\n",
       " 'V62CWJ',\n",
       " 'V62ZVR',\n",
       " 'V67E83',\n",
       " 'V67RSJ',\n",
       " 'V68KXR',\n",
       " 'V6B09P',\n",
       " 'V6DO26',\n",
       " 'V6JQBG',\n",
       " 'V6PGJM',\n",
       " 'V6QVBQ',\n",
       " 'V6SUUS',\n",
       " 'V6U9CP',\n",
       " 'V704VW',\n",
       " 'V7737A',\n",
       " 'V7CDL5',\n",
       " 'V7EM4L',\n",
       " 'V7H80T',\n",
       " 'V7IKOL',\n",
       " 'V7MUGL',\n",
       " 'V7RTZY',\n",
       " 'V7UCXM',\n",
       " 'V88BZU',\n",
       " 'V89PC5',\n",
       " 'V89RUE',\n",
       " 'V8A98P',\n",
       " 'V8BF42',\n",
       " 'V8D7YS',\n",
       " 'V8F1JC',\n",
       " 'V8J895',\n",
       " 'V8K3YM',\n",
       " 'V8L57V',\n",
       " 'V8L9OK',\n",
       " 'V8NC3I',\n",
       " 'V8R1TD',\n",
       " 'V8RHG3',\n",
       " 'V944TO',\n",
       " 'V95KM2',\n",
       " 'V964S0',\n",
       " 'V97J9Z',\n",
       " 'V9GGFQ',\n",
       " 'V9HJCC',\n",
       " 'V9J61N',\n",
       " 'V9KN8S',\n",
       " 'V9LH4H',\n",
       " 'V9QGG2',\n",
       " 'V9T3WX',\n",
       " 'V9U38S',\n",
       " 'VA1T4X',\n",
       " 'VA5SKQ',\n",
       " 'VA8SXT',\n",
       " 'VAGYAN',\n",
       " 'VAHMQF',\n",
       " 'VAI1ZY',\n",
       " 'VAJ380',\n",
       " 'VAJLEJ',\n",
       " 'VALKBG',\n",
       " 'VAQ2EH',\n",
       " 'VAR95B',\n",
       " 'VARF3W',\n",
       " 'VAYWBV',\n",
       " 'VB07CR',\n",
       " 'VB5CDS',\n",
       " 'VB930K',\n",
       " 'VBCY6U',\n",
       " 'VBGWS0',\n",
       " 'VBPRL4',\n",
       " 'VBU4D1',\n",
       " 'VBY12V',\n",
       " 'VC0JIV',\n",
       " 'VC7AA1',\n",
       " 'VC7WS4',\n",
       " 'VC81ST',\n",
       " 'VCEMYL',\n",
       " 'VCIDEN',\n",
       " 'VCQWG0',\n",
       " 'VCUIHW',\n",
       " 'VD98G4',\n",
       " 'VDCYKC',\n",
       " 'VDFRDM',\n",
       " 'VDIIS3',\n",
       " 'VDK15L',\n",
       " 'VDOUU6',\n",
       " 'VDXV6K',\n",
       " 'VE0BRU',\n",
       " 'VE7C2B',\n",
       " 'VE81X7',\n",
       " 'VE8FI5',\n",
       " 'VE8NR0',\n",
       " 'VE94JL',\n",
       " 'VEBQBC',\n",
       " 'VEED90',\n",
       " 'VEPCIN',\n",
       " 'VEU3OA',\n",
       " 'VEUHU1',\n",
       " 'VF13QQ',\n",
       " 'VF1M6Y',\n",
       " 'VF2UIE',\n",
       " 'VF8KUM',\n",
       " 'VF8NER',\n",
       " 'VF9LPS',\n",
       " 'VFKGL6',\n",
       " 'VFKVQQ',\n",
       " 'VFLZKF',\n",
       " 'VFOJNG',\n",
       " 'VFWOPB',\n",
       " 'VFXVVZ',\n",
       " 'VFYJB2',\n",
       " 'VFZRX0',\n",
       " 'VG2PS6',\n",
       " 'VG5FYD',\n",
       " 'VG76GK',\n",
       " 'VGCPDM',\n",
       " 'VGCQOM',\n",
       " 'VGHLVX',\n",
       " 'VGLNBQ',\n",
       " 'VGNNE2',\n",
       " 'VGW4DS',\n",
       " 'VGYSAU',\n",
       " 'VGZ2XW',\n",
       " 'VGZKT8',\n",
       " 'VH4BVY',\n",
       " 'VH91CT',\n",
       " 'VH96UL',\n",
       " 'VHB2F2',\n",
       " 'VHDPR5',\n",
       " 'VHEX54',\n",
       " 'VHGSNF',\n",
       " 'VHH1W0',\n",
       " 'VHH21X',\n",
       " 'VHKBE9',\n",
       " 'VHOB0F',\n",
       " 'VHSOYZ',\n",
       " 'VHTW7V',\n",
       " 'VHWIM2',\n",
       " 'VI17SD',\n",
       " 'VI7FAH',\n",
       " 'VI7N13',\n",
       " 'VI8ISR',\n",
       " 'VI8KBK',\n",
       " 'VI9BD1',\n",
       " 'VI9R2T',\n",
       " 'VIGZJL',\n",
       " 'VIIHIK',\n",
       " 'VIQZMD',\n",
       " 'VIVOYI',\n",
       " 'VIYDGY',\n",
       " 'VIYPAF',\n",
       " 'VJ1AZM',\n",
       " 'VJALWB',\n",
       " 'VJB0XB',\n",
       " 'VJJOTE',\n",
       " 'VJMD0H',\n",
       " 'VJV4SA',\n",
       " 'VJVR8F',\n",
       " 'VJY5KH',\n",
       " 'VJYNPP',\n",
       " 'VK6J32',\n",
       " 'VKC8SA',\n",
       " 'VKJVLJ',\n",
       " 'VKOZXY',\n",
       " 'VKR391',\n",
       " 'VKVJGH',\n",
       " 'VL3YTE',\n",
       " 'VLBFMN',\n",
       " 'VLC38X',\n",
       " 'VLDR27',\n",
       " 'VLINVF',\n",
       " 'VLP13D',\n",
       " 'VLQ8JO',\n",
       " 'VLUVF1',\n",
       " 'VLZ378',\n",
       " 'VM2QR6',\n",
       " 'VM6N5L',\n",
       " 'VM6ZKQ',\n",
       " 'VM7X3E',\n",
       " 'VM87HG',\n",
       " 'VMEWF3',\n",
       " 'VMEXEG',\n",
       " 'VMIPDW',\n",
       " 'VMT71W',\n",
       " 'VMTNSJ',\n",
       " 'VMY8WP',\n",
       " 'VN17VH',\n",
       " 'VN82H4',\n",
       " 'VNANKL',\n",
       " 'VNDJYN',\n",
       " 'VNEPCB',\n",
       " 'VNEY5D',\n",
       " 'VNFFBI',\n",
       " 'VNG5IL',\n",
       " 'VNHTOG',\n",
       " 'VNQSJI',\n",
       " 'VNTV62',\n",
       " 'VNW9A6',\n",
       " 'VNWDAJ',\n",
       " 'VO4UIJ',\n",
       " 'VO615S',\n",
       " 'VOA27A',\n",
       " 'VOITEI',\n",
       " 'VOK6OK',\n",
       " 'VOLN58',\n",
       " 'VOLROE',\n",
       " 'VOMGL7',\n",
       " 'VON1OO',\n",
       " 'VORP1W',\n",
       " 'VOTG1P',\n",
       " 'VP0I94',\n",
       " 'VP4CBR',\n",
       " 'VP8AMJ',\n",
       " 'VPKOZ2',\n",
       " 'VPL82X',\n",
       " 'VPNRH4',\n",
       " 'VPP5FT',\n",
       " 'VPQ8OT',\n",
       " 'VPQUXC',\n",
       " 'VPWQBS',\n",
       " 'VPXQ5M',\n",
       " 'VQ6PCX',\n",
       " 'VQ7LS0',\n",
       " 'VQD73F',\n",
       " 'VQF7CE',\n",
       " 'VQL6B7',\n",
       " 'VQO5VH',\n",
       " 'VQQ90U',\n",
       " 'VQRDAM',\n",
       " 'VQVGVZ',\n",
       " 'VQVL9I',\n",
       " 'VQXLHZ',\n",
       " 'VR00V4',\n",
       " 'VR235O',\n",
       " 'VR339W',\n",
       " 'VR54L3',\n",
       " 'VR693W',\n",
       " 'VREQ3J',\n",
       " 'VRFG0E',\n",
       " 'VRKHLF',\n",
       " 'VRM02Q',\n",
       " 'VRZXT6',\n",
       " 'VS08GD',\n",
       " 'VS0ATU',\n",
       " 'VS0RGM',\n",
       " 'VS3EWV',\n",
       " 'VS5F60',\n",
       " 'VS5TB5',\n",
       " 'VS5X5T',\n",
       " 'VS7JGZ',\n",
       " 'VS8MEX',\n",
       " 'VS9EPY',\n",
       " 'VSAW55',\n",
       " 'VSD1UZ',\n",
       " 'VSEFK9',\n",
       " 'VSIX5I',\n",
       " 'VSY399',\n",
       " 'VSYLAG',\n",
       " 'VT1CWP',\n",
       " 'VT5UOH',\n",
       " 'VTP6JE',\n",
       " 'VTPGT9',\n",
       " 'VTWUM8',\n",
       " 'VUBUXB',\n",
       " 'VUUDII',\n",
       " 'VUURRJ',\n",
       " 'VUVJ4Y',\n",
       " 'VUXZVX',\n",
       " 'VUZJOJ',\n",
       " 'VVJS40',\n",
       " 'VVK3XC',\n",
       " 'VVLHKJ',\n",
       " 'VVMFY7',\n",
       " 'VVQEDC',\n",
       " 'VW5BRB',\n",
       " 'VW683D',\n",
       " 'VW6QOI',\n",
       " 'VWC1V7',\n",
       " 'VWDJSA',\n",
       " 'VWLZJN',\n",
       " 'VWQ8LQ',\n",
       " 'VWSUHB',\n",
       " 'VWWX1X',\n",
       " 'VWX93I',\n",
       " 'VWZEWE',\n",
       " 'VX38WF',\n",
       " 'VX7EQ1',\n",
       " 'VXAIBG',\n",
       " 'VXGRN0',\n",
       " 'VXJ3KK',\n",
       " 'VXJXFE',\n",
       " 'VXLDIP',\n",
       " 'VXWUK7',\n",
       " 'VY5LA8',\n",
       " 'VY824V',\n",
       " 'VY8TVB',\n",
       " 'VYHVL7',\n",
       " 'VYJOVS',\n",
       " 'VYJX9R',\n",
       " 'VYL9BR',\n",
       " 'VYP34W',\n",
       " 'VYR5E2',\n",
       " 'VYWOWJ',\n",
       " 'VZ1KA0',\n",
       " 'VZ4EH6',\n",
       " 'VZ5D83',\n",
       " 'VZ6D5K',\n",
       " 'VZ9NE7',\n",
       " 'VZGZLV',\n",
       " 'VZIO94',\n",
       " 'VZSQ0C',\n",
       " 'VZUFR8'}"
      ]
     },
     "execution_count": 49,
     "metadata": {},
     "output_type": "execute_result"
    },
    {
     "data": {
      "image/png": "[encoded data removed]",
      "text/plain": [
       "<Figure size 640x480 with 1 Axes>"
      ]
     },
     "metadata": {},
     "output_type": "display_data"
    }
   ],
   "source": [
    "venn2([set(cross['sample']), set(nGood['Filename'])], ('ill', 'nGood'))\n",
    "set(cross['sample']).intersection(set(nGood['Filename']))"
   ]
  }
 ],
 "metadata": {
  "kernelspec": {
   "display_name": "Python 3",
   "language": "python",
   "name": "python3"
  },
  "language_info": {
   "codemirror_mode": {
    "name": "ipython",
    "version": 3
   },
   "file_extension": ".py",
   "mimetype": "text/x-python",
   "name": "python",
   "nbconvert_exporter": "python",
   "pygments_lexer": "ipython3",
   "version": "3.9.6"
  }
 },
 "nbformat": 4,
 "nbformat_minor": 2
}

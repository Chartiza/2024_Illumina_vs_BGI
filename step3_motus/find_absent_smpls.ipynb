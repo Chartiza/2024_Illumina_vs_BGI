{
 "cells": [
  {
   "cell_type": "code",
   "execution_count": 2,
   "metadata": {},
   "outputs": [],
   "source": [
    "# import packages\n",
    "import matplotlib.pyplot as plt\n",
    "import pandas as pd\n",
    "import seaborn as sns \n",
    "import numpy as np\n",
    "from matplotlib_venn import venn2\n",
    "from matplotlib_venn import venn3"
   ]
  },
  {
   "attachments": {},
   "cell_type": "markdown",
   "metadata": {},
   "source": [
    "## motus"
   ]
  },
  {
   "cell_type": "code",
   "execution_count": 6,
   "metadata": {},
   "outputs": [
    {
     "name": "stdout",
     "output_type": "stream",
     "text": [
      "Number of bad samples in BGI:  100\n",
      "Number of bad samples in Illumina:  57\n",
      "Number of common bad samples:  57\n",
      "Number of unique bad samples in BGI:  43\n",
      "Number of unique bad samples in Illumina:  0\n"
     ]
    }
   ],
   "source": [
    "bgi_bad = pd.read_csv(\"input/bgi_bad_list.csv\")\n",
    "ill_bad = pd.read_csv(\"input/ill_bad_list.csv\")\n",
    "\n",
    "# find common bad samples\n",
    "common_bad = pd.merge(bgi_bad, ill_bad, how='inner', on=['sample'])\n",
    "\n",
    "# find unique bad samples\n",
    "bgi_bad_unique = bgi_bad[~bgi_bad['sample'].isin(common_bad['sample'])]\n",
    "ill_bad_unique = ill_bad[~ill_bad['sample'].isin(common_bad['sample'])]\n",
    "\n",
    "print(\"Number of bad samples in BGI: \", len(bgi_bad))\n",
    "print(\"Number of bad samples in Illumina: \", len(ill_bad))\n",
    "print(\"Number of common bad samples: \", len(common_bad))\n",
    "print(\"Number of unique bad samples in BGI: \", len(bgi_bad_unique))\n",
    "print(\"Number of unique bad samples in Illumina: \", len(ill_bad_unique))\n",
    "\n",
    "bgi_bad_unique.to_csv(\"bgi_bad_unique.csv\", index=False)"
   ]
  },
  {
   "cell_type": "code",
   "execution_count": 8,
   "metadata": {},
   "outputs": [
    {
     "name": "stdout",
     "output_type": "stream",
     "text": [
      "Number of good samples in BGI:  99\n",
      "Number of good samples in Illumina:  35\n",
      "Number of common good samples:  35\n",
      "Number of unique good samples in BGI:  64\n",
      "Number of unique good samples in Illumina:  0\n"
     ]
    }
   ],
   "source": [
    "bgi_good = pd.read_csv(\"input/bgi_good_list.csv\")\n",
    "ill_good = pd.read_csv(\"input/ill_good_list.csv\")\n",
    "\n",
    "# find common good samples\n",
    "common_good = pd.merge(bgi_good, ill_good, how='inner', on=['sample'])\n",
    "\n",
    "# find unique good samples\n",
    "bgi_good_unique = bgi_good[~bgi_good['sample'].isin(common_good['sample'])]\n",
    "ill_good_unique = ill_good[~ill_good['sample'].isin(common_good['sample'])]\n",
    "\n",
    "print(\"Number of good samples in BGI: \", len(bgi_good))\n",
    "print(\"Number of good samples in Illumina: \", len(ill_good))\n",
    "print(\"Number of common good samples: \", len(common_good))\n",
    "print(\"Number of unique good samples in BGI: \", len(bgi_good_unique))\n",
    "print(\"Number of unique good samples in Illumina: \", len(ill_good_unique))\n",
    "\n",
    "bgi_good_unique.to_csv(\"bgi_good_unique.csv\", index=False)"
   ]
  },
  {
   "cell_type": "markdown",
   "metadata": {},
   "source": [
    "## jellyfish"
   ]
  },
  {
   "cell_type": "code",
   "execution_count": 26,
   "metadata": {},
   "outputs": [
    {
     "data": {
      "text/html": [
       "<div>\n",
       "<style scoped>\n",
       "    .dataframe tbody tr th:only-of-type {\n",
       "        vertical-align: middle;\n",
       "    }\n",
       "\n",
       "    .dataframe tbody tr th {\n",
       "        vertical-align: top;\n",
       "    }\n",
       "\n",
       "    .dataframe thead th {\n",
       "        text-align: right;\n",
       "    }\n",
       "</style>\n",
       "<table border=\"1\" class=\"dataframe\">\n",
       "  <thead>\n",
       "    <tr style=\"text-align: right;\">\n",
       "      <th></th>\n",
       "      <th>sample_path</th>\n",
       "      <th>sample</th>\n",
       "    </tr>\n",
       "  </thead>\n",
       "  <tbody>\n",
       "    <tr>\n",
       "      <th>5016</th>\n",
       "      <td>/gpfs/space/GI/GV/Projects/Microbiome/Illumina...</td>\n",
       "      <td>VZZW6V</td>\n",
       "    </tr>\n",
       "    <tr>\n",
       "      <th>5017</th>\n",
       "      <td>/gpfs/space/GI/GV/Projects/Microbiome/Illumina...</td>\n",
       "      <td>VZZW6V</td>\n",
       "    </tr>\n",
       "  </tbody>\n",
       "</table>\n",
       "</div>"
      ],
      "text/plain": [
       "                                            sample_path  sample\n",
       "5016  /gpfs/space/GI/GV/Projects/Microbiome/Illumina...  VZZW6V\n",
       "5017  /gpfs/space/GI/GV/Projects/Microbiome/Illumina...  VZZW6V"
      ]
     },
     "execution_count": 26,
     "metadata": {},
     "output_type": "execute_result"
    }
   ],
   "source": [
    "all_ill = pd.read_csv(\"input/all_ill_reads_list.csv\",header=None)\n",
    "all_ill.columns = ['sample_path']\n",
    "all_ill['sample'] = all_ill['sample_path'].str.split('/').str[-1].str.split('.').str[0]\n",
    "all_ill['sample'] = all_ill['sample'].str.split('_').str[1]\n",
    "all_ill['sample'] = all_ill['sample'].str.split('-').str[0]\n",
    "all_ill.tail(2)"
   ]
  },
  {
   "cell_type": "code",
   "execution_count": 30,
   "metadata": {},
   "outputs": [],
   "source": [
    "add_smpl = pd.read_csv(\"input/add_smpls_path.csv\", sep='/', header=None)\n",
    "add_smpl = add_smpl[16].to_frame()\n",
    "add_smpl.columns = ['sample']\n",
    "add_smpl['sample'] = add_smpl['sample']\n",
    "add_smpl['sample'] = add_smpl['sample'].str.split('_').str[0]\n",
    "add_smpl.to_csv(\"add_smpl.csv\", index=False)"
   ]
  },
  {
   "cell_type": "code",
   "execution_count": 31,
   "metadata": {},
   "outputs": [],
   "source": [
    "add_smpl.head(100).to_csv(\"add_smpl1.csv\", index=False, header=False)\n",
    "add_smpl.head(200).tail(100).to_csv(\"add_smpl2.csv\", index=False, header=False)\n",
    "add_smpl.head(300).tail(100).to_csv(\"add_smpl3.csv\", index=False, header=False)\n",
    "add_smpl.head(400).tail(100).to_csv(\"add_smpl4.csv\", index=False, header=False)\n",
    "add_smpl.head(500).tail(100).to_csv(\"add_smpl5.csv\", index=False, header=False)\n",
    "add_smpl.tail(92).to_csv(\"add_smpl6.csv\", index=False, header=False)"
   ]
  },
  {
   "cell_type": "code",
   "execution_count": 29,
   "metadata": {},
   "outputs": [
    {
     "data": {
      "text/plain": [
       "592"
      ]
     },
     "execution_count": 29,
     "metadata": {},
     "output_type": "execute_result"
    }
   ],
   "source": [
    "mrg = add_smpl.merge(all_ill, on='sample', how='inner')\n",
    "len(mrg['sample'].unique())\n"
   ]
  },
  {
   "cell_type": "markdown",
   "metadata": {},
   "source": [
    "## Bad samlpes withing bgi-bgi subset"
   ]
  },
  {
   "cell_type": "code",
   "execution_count": 35,
   "metadata": {},
   "outputs": [
    {
     "data": {
      "text/html": [
       "<div>\n",
       "<style scoped>\n",
       "    .dataframe tbody tr th:only-of-type {\n",
       "        vertical-align: middle;\n",
       "    }\n",
       "\n",
       "    .dataframe tbody tr th {\n",
       "        vertical-align: top;\n",
       "    }\n",
       "\n",
       "    .dataframe thead th {\n",
       "        text-align: right;\n",
       "    }\n",
       "</style>\n",
       "<table border=\"1\" class=\"dataframe\">\n",
       "  <thead>\n",
       "    <tr style=\"text-align: right;\">\n",
       "      <th></th>\n",
       "      <th>sample</th>\n",
       "    </tr>\n",
       "  </thead>\n",
       "  <tbody>\n",
       "    <tr>\n",
       "      <th>0</th>\n",
       "      <td>V09EVV</td>\n",
       "    </tr>\n",
       "    <tr>\n",
       "      <th>1</th>\n",
       "      <td>V0SVA4</td>\n",
       "    </tr>\n",
       "  </tbody>\n",
       "</table>\n",
       "</div>"
      ],
      "text/plain": [
       "   sample\n",
       "0  V09EVV\n",
       "1  V0SVA4"
      ]
     },
     "execution_count": 35,
     "metadata": {},
     "output_type": "execute_result"
    }
   ],
   "source": [
    "sb = pd.read_csv(\"input/samples_Bad.csv\",header=None)\n",
    "sb.columns = ['sample']\n",
    "sw = pd.read_csv(\"input/samples_Wrs.csv\",header=None)\n",
    "sw.columns = ['sample']\n",
    "\n",
    "bb = pd.read_csv(\"input/Intra-Platform_smpls_list_54_sorted.csv\")\n",
    "bb.columns = ['sample']\n",
    "bb.head(2)"
   ]
  },
  {
   "cell_type": "code",
   "execution_count": 37,
   "metadata": {},
   "outputs": [
    {
     "data": {
      "text/plain": [
       "<matplotlib_venn._common.VennDiagram at 0x303553fd0>"
      ]
     },
     "execution_count": 37,
     "metadata": {},
     "output_type": "execute_result"
    },
    {
     "data": {
      "image/png": "[encoded data removed]",
      "text/plain": [
       "<Figure size 640x480 with 1 Axes>"
      ]
     },
     "metadata": {},
     "output_type": "display_data"
    }
   ],
   "source": [
    "# venn diagram\n",
    "venn2([set(sb['sample']), set(bb['sample'])], ('Bad', 'b-b smpls'))"
   ]
  },
  {
   "cell_type": "code",
   "execution_count": 39,
   "metadata": {},
   "outputs": [
    {
     "data": {
      "text/plain": [
       "{'V5IRLB'}"
      ]
     },
     "execution_count": 39,
     "metadata": {},
     "output_type": "execute_result"
    }
   ],
   "source": [
    "set(sb['sample']).intersection(set(bb['sample']))"
   ]
  },
  {
   "cell_type": "code",
   "execution_count": 38,
   "metadata": {},
   "outputs": [
    {
     "data": {
      "text/plain": [
       "<matplotlib_venn._common.VennDiagram at 0x30355c430>"
      ]
     },
     "execution_count": 38,
     "metadata": {},
     "output_type": "execute_result"
    },
    {
     "data": {
      "image/png": "[encoded data removed]",
      "text/plain": [
       "<Figure size 640x480 with 1 Axes>"
      ]
     },
     "metadata": {},
     "output_type": "display_data"
    }
   ],
   "source": [
    "venn2([set(sw['sample']), set(bb['sample'])], ('ugly', 'b-b smpls'))"
   ]
  }
 ],
 "metadata": {
  "kernelspec": {
   "display_name": "Python 3",
   "language": "python",
   "name": "python3"
  },
  "language_info": {
   "codemirror_mode": {
    "name": "ipython",
    "version": 3
   },
   "file_extension": ".py",
   "mimetype": "text/x-python",
   "name": "python",
   "nbconvert_exporter": "python",
   "pygments_lexer": "ipython3",
   "version": "3.9.6"
  }
 },
 "nbformat": 4,
 "nbformat_minor": 2
}

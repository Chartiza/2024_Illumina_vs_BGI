{
 "cells": [
  {
   "cell_type": "code",
   "execution_count": 1,
   "metadata": {},
   "outputs": [],
   "source": [
    "# import packages\n",
    "import matplotlib.pyplot as plt\n",
    "import pandas as pd\n",
    "import seaborn as sns \n",
    "import numpy as np\n",
    "from matplotlib_venn import venn2\n",
    "from matplotlib_venn import venn3"
   ]
  },
  {
   "attachments": {},
   "cell_type": "markdown",
   "metadata": {},
   "source": [
    "## Read smpls list"
   ]
  },
  {
   "cell_type": "code",
   "execution_count": 6,
   "metadata": {},
   "outputs": [
    {
     "name": "stdout",
     "output_type": "stream",
     "text": [
      "Number of bad samples in BGI:  100\n",
      "Number of bad samples in Illumina:  57\n",
      "Number of common bad samples:  57\n",
      "Number of unique bad samples in BGI:  43\n",
      "Number of unique bad samples in Illumina:  0\n"
     ]
    }
   ],
   "source": [
    "bgi_bad = pd.read_csv(\"input/bgi_bad_list.csv\")\n",
    "ill_bad = pd.read_csv(\"input/ill_bad_list.csv\")\n",
    "\n",
    "# find common bad samples\n",
    "common_bad = pd.merge(bgi_bad, ill_bad, how='inner', on=['sample'])\n",
    "\n",
    "# find unique bad samples\n",
    "bgi_bad_unique = bgi_bad[~bgi_bad['sample'].isin(common_bad['sample'])]\n",
    "ill_bad_unique = ill_bad[~ill_bad['sample'].isin(common_bad['sample'])]\n",
    "\n",
    "print(\"Number of bad samples in BGI: \", len(bgi_bad))\n",
    "print(\"Number of bad samples in Illumina: \", len(ill_bad))\n",
    "print(\"Number of common bad samples: \", len(common_bad))\n",
    "print(\"Number of unique bad samples in BGI: \", len(bgi_bad_unique))\n",
    "print(\"Number of unique bad samples in Illumina: \", len(ill_bad_unique))\n",
    "\n",
    "bgi_bad_unique.to_csv(\"bgi_bad_unique.csv\", index=False)"
   ]
  },
  {
   "cell_type": "code",
   "execution_count": 8,
   "metadata": {},
   "outputs": [
    {
     "name": "stdout",
     "output_type": "stream",
     "text": [
      "Number of good samples in BGI:  99\n",
      "Number of good samples in Illumina:  35\n",
      "Number of common good samples:  35\n",
      "Number of unique good samples in BGI:  64\n",
      "Number of unique good samples in Illumina:  0\n"
     ]
    }
   ],
   "source": [
    "bgi_good = pd.read_csv(\"input/bgi_good_list.csv\")\n",
    "ill_good = pd.read_csv(\"input/ill_good_list.csv\")\n",
    "\n",
    "# find common good samples\n",
    "common_good = pd.merge(bgi_good, ill_good, how='inner', on=['sample'])\n",
    "\n",
    "# find unique good samples\n",
    "bgi_good_unique = bgi_good[~bgi_good['sample'].isin(common_good['sample'])]\n",
    "ill_good_unique = ill_good[~ill_good['sample'].isin(common_good['sample'])]\n",
    "\n",
    "print(\"Number of good samples in BGI: \", len(bgi_good))\n",
    "print(\"Number of good samples in Illumina: \", len(ill_good))\n",
    "print(\"Number of common good samples: \", len(common_good))\n",
    "print(\"Number of unique good samples in BGI: \", len(bgi_good_unique))\n",
    "print(\"Number of unique good samples in Illumina: \", len(ill_good_unique))\n",
    "\n",
    "bgi_good_unique.to_csv(\"bgi_good_unique.csv\", index=False)"
   ]
  }
 ],
 "metadata": {
  "kernelspec": {
   "display_name": "Python 3",
   "language": "python",
   "name": "python3"
  },
  "language_info": {
   "codemirror_mode": {
    "name": "ipython",
    "version": 3
   },
   "file_extension": ".py",
   "mimetype": "text/x-python",
   "name": "python",
   "nbconvert_exporter": "python",
   "pygments_lexer": "ipython3",
   "version": "3.9.6"
  }
 },
 "nbformat": 4,
 "nbformat_minor": 2
}

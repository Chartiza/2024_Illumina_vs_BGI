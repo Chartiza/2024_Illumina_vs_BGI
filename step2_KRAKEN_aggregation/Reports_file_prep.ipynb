{
 "cells": [
  {
   "cell_type": "code",
   "execution_count": 1,
   "metadata": {},
   "outputs": [],
   "source": [
    "# import packages\n",
    "import matplotlib.pyplot as plt\n",
    "import pandas as pd\n",
    "import seaborn as sns \n",
    "import os\n",
    "import glob\n",
    "from datetime import date\n",
    "\n",
    "import warnings"
   ]
  },
  {
   "cell_type": "markdown",
   "metadata": {},
   "source": [
    "# Illumina"
   ]
  },
  {
   "cell_type": "markdown",
   "metadata": {},
   "source": [
    "## Illumina abud all"
   ]
  },
  {
   "cell_type": "code",
   "execution_count": 60,
   "metadata": {},
   "outputs": [
    {
     "name": "stdout",
     "output_type": "stream",
     "text": [
      "1991 330 75\n"
     ]
    }
   ],
   "source": [
    "ill1_abud_all = pd.read_csv('input/Illumina_kraken1_abud_all.csv')\n",
    "# re-run kraken2\n",
    "ill2b_abud_all = pd.read_csv('input/IlluminaBad_kraken2_abud_all.csv')\n",
    "ill2w_abud_all = pd.read_csv('input/IlluminaWrs_kraken2_abud_all.csv')\n",
    "\n",
    "print(len(ill1_abud_all.columns), len(ill2b_abud_all.columns), len(ill2w_abud_all.columns))"
   ]
  },
  {
   "cell_type": "code",
   "execution_count": 61,
   "metadata": {},
   "outputs": [
    {
     "data": {
      "text/plain": [
       "1588"
      ]
     },
     "execution_count": 61,
     "metadata": {},
     "output_type": "execute_result"
    }
   ],
   "source": [
    "# exclude Bad and Ugly samples from first kraken2 run\n",
    "column_to_exclude = pd.concat([pd.Series(ill2b_abud_all.columns), pd.Series(ill2w_abud_all.columns)])\n",
    "column_to_exclude = column_to_exclude[column_to_exclude != 'name']\n",
    "ill1_abud_all = ill1_abud_all.drop(column_to_exclude, axis=1)\n",
    "\n",
    "len(ill1_abud_all.columns)"
   ]
  },
  {
   "cell_type": "code",
   "execution_count": 62,
   "metadata": {},
   "outputs": [
    {
     "data": {
      "text/plain": [
       "(79519, 1991)"
      ]
     },
     "execution_count": 62,
     "metadata": {},
     "output_type": "execute_result"
    }
   ],
   "source": [
    "# add the second kraken2 run\n",
    "ill = ill1_abud_all.merge(ill2b_abud_all, how='outer', on='name')\n",
    "ill = ill.merge(ill2w_abud_all, how='outer', on='name')\n",
    "# fill NaN with 0\n",
    "ill = ill.fillna(0)\n",
    "ill.to_csv('results/Illumina_final_abud_all.csv', index=False)\n",
    "\n",
    "ill.shape"
   ]
  },
  {
   "cell_type": "markdown",
   "metadata": {},
   "source": [
    "## Illumina abud part2"
   ]
  },
  {
   "cell_type": "code",
   "execution_count": 63,
   "metadata": {},
   "outputs": [
    {
     "data": {
      "text/plain": [
       "(3148, 1990)"
      ]
     },
     "execution_count": 63,
     "metadata": {},
     "output_type": "execute_result"
    }
   ],
   "source": [
    "# subset only bacteria with abundance > 0.1%\n",
    "ill_round = ill.copy().set_index('name')\n",
    "ill_round[ill_round <= 0.001] = 0\n",
    "# drop raws with all zeros\n",
    "ill_round = ill_round[(ill_round.T != 0).any()]\n",
    "\n",
    "ill_round.shape"
   ]
  },
  {
   "cell_type": "code",
   "execution_count": 64,
   "metadata": {},
   "outputs": [],
   "source": [
    "ill_round.to_csv('results/Illumina_final_abud_part2.csv')"
   ]
  },
  {
   "cell_type": "markdown",
   "metadata": {},
   "source": [
    "## Illumina abud part1"
   ]
  },
  {
   "cell_type": "code",
   "execution_count": 20,
   "metadata": {},
   "outputs": [
    {
     "name": "stdout",
     "output_type": "stream",
     "text": [
      "1991 330 75\n"
     ]
    }
   ],
   "source": [
    "ill1_abud_part1 = pd.read_csv('input/Illumina_kraken1_abud_part1.csv')\n",
    "# re-run kraken2\n",
    "ill2b_abud_part1 = pd.read_csv('input/IlluminaBad_kraken2_abud_part1.csv')\n",
    "ill2w_abud_part1 = pd.read_csv('input/IlluminaWrs_kraken2_abud_part1.csv')\n",
    "\n",
    "print(len(ill1_abud_part1.columns), len(ill2b_abud_part1.columns), len(ill2w_abud_part1.columns))"
   ]
  },
  {
   "cell_type": "code",
   "execution_count": 24,
   "metadata": {},
   "outputs": [
    {
     "data": {
      "text/plain": [
       "1588"
      ]
     },
     "execution_count": 24,
     "metadata": {},
     "output_type": "execute_result"
    }
   ],
   "source": [
    "# exclude Bad and Ugly samples from first kraken2 run\n",
    "column_to_exclude = pd.concat([pd.Series(ill2b_abud_part1.columns), pd.Series(ill2w_abud_part1.columns)])\n",
    "column_to_exclude = column_to_exclude[column_to_exclude != 'name']\n",
    "ill1_abud_part1 = ill1_abud_part1.drop(column_to_exclude, axis=1)\n",
    "\n",
    "len(ill1_abud_part1.columns)"
   ]
  },
  {
   "cell_type": "code",
   "execution_count": 30,
   "metadata": {},
   "outputs": [
    {
     "data": {
      "text/plain": [
       "(1033, 1991)"
      ]
     },
     "execution_count": 30,
     "metadata": {},
     "output_type": "execute_result"
    }
   ],
   "source": [
    "# add the second kraken2 run\n",
    "ill = ill1_abud_part1.merge(ill2b_abud_part1, how='outer', on='name')\n",
    "ill = ill.merge(ill2w_abud_part1, how='outer', on='name')\n",
    "# fill NaN with 0\n",
    "ill = ill.fillna(0)\n",
    "ill.to_csv('results/Illumina_final_abud_part1.csv', index=False)\n",
    "\n",
    "ill.shape"
   ]
  },
  {
   "cell_type": "markdown",
   "metadata": {},
   "source": [
    "## Illumina numb all"
   ]
  },
  {
   "cell_type": "code",
   "execution_count": 67,
   "metadata": {},
   "outputs": [
    {
     "name": "stdout",
     "output_type": "stream",
     "text": [
      "1991 330 75\n"
     ]
    }
   ],
   "source": [
    "ill1_numb_all = pd.read_csv('input/Illumina_kraken1_numb_all.csv')\n",
    "# re-run kraken2\n",
    "ill2b_numb_all = pd.read_csv('input/IlluminaBad_kraken2_numb_all.csv')\n",
    "ill2w_numb_all = pd.read_csv('input/IlluminaWrs_kraken2_numb_all.csv')\n",
    "\n",
    "print(len(ill1_numb_all.columns), len(ill2b_numb_all.columns), len(ill2w_numb_all.columns))"
   ]
  },
  {
   "cell_type": "code",
   "execution_count": 68,
   "metadata": {},
   "outputs": [
    {
     "data": {
      "text/plain": [
       "1588"
      ]
     },
     "execution_count": 68,
     "metadata": {},
     "output_type": "execute_result"
    }
   ],
   "source": [
    "# exclude Bad and Ugly samples from first kraken2 run\n",
    "column_to_exclude = pd.concat([pd.Series(ill2b_numb_all.columns), pd.Series(ill2w_numb_all.columns)])\n",
    "column_to_exclude = column_to_exclude[column_to_exclude != 'name']\n",
    "ill1_numb_all = ill1_numb_all.drop(column_to_exclude, axis=1)\n",
    "\n",
    "len(ill1_numb_all.columns)"
   ]
  },
  {
   "cell_type": "code",
   "execution_count": 69,
   "metadata": {},
   "outputs": [
    {
     "data": {
      "text/plain": [
       "(79519, 1991)"
      ]
     },
     "execution_count": 69,
     "metadata": {},
     "output_type": "execute_result"
    }
   ],
   "source": [
    "# add the second kraken2 run\n",
    "ill = ill1_numb_all.merge(ill2b_numb_all, how='outer', on='name')\n",
    "ill = ill.merge(ill2w_numb_all, how='outer', on='name')\n",
    "# fill NaN with 0\n",
    "ill = ill.fillna(0)\n",
    "#ill.to_csv('results/Illumina_final_numb_all.csv', index=False)\n",
    "\n",
    "ill.shape"
   ]
  },
  {
   "cell_type": "markdown",
   "metadata": {},
   "source": [
    "## Illumina numb part2"
   ]
  },
  {
   "cell_type": "code",
   "execution_count": 70,
   "metadata": {},
   "outputs": [],
   "source": [
    "# subset only bacteria with abundance > 0.1%\n",
    "ill_part2_bact = pd.read_csv('results/Illumina_final_abud_part2.csv')\n",
    "nm = ill_part2_bact['name'].to_frame()\n",
    "nm.merge(ill, how='inner', on='name').to_csv('results/Illumina_final_numb_part2.csv', index=False)"
   ]
  },
  {
   "cell_type": "markdown",
   "metadata": {},
   "source": [
    "## Illumina numb part1"
   ]
  },
  {
   "cell_type": "code",
   "execution_count": 72,
   "metadata": {},
   "outputs": [
    {
     "name": "stdout",
     "output_type": "stream",
     "text": [
      "1991 330 75\n"
     ]
    }
   ],
   "source": [
    "ill1_numb_part1 = pd.read_csv('input/Illumina_kraken1_numb_part1.csv')\n",
    "# re-run kraken2\n",
    "ill2b_numb_part1 = pd.read_csv('input/IlluminaBad_kraken2_numb_part1.csv')\n",
    "ill2w_numb_part1 = pd.read_csv('input/IlluminaWrs_kraken2_numb_part1.csv')\n",
    "\n",
    "print(len(ill1_numb_part1.columns), len(ill2b_numb_part1.columns), len(ill2w_numb_part1.columns))"
   ]
  },
  {
   "cell_type": "code",
   "execution_count": 73,
   "metadata": {},
   "outputs": [
    {
     "data": {
      "text/plain": [
       "1588"
      ]
     },
     "execution_count": 73,
     "metadata": {},
     "output_type": "execute_result"
    }
   ],
   "source": [
    "# exclude Bad and Ugly samples from first kraken2 run\n",
    "column_to_exclude = pd.concat([pd.Series(ill2b_numb_part1.columns), pd.Series(ill2w_numb_part1.columns)])\n",
    "column_to_exclude = column_to_exclude[column_to_exclude != 'name']\n",
    "ill1_numb_part1 = ill1_numb_part1.drop(column_to_exclude, axis=1)\n",
    "\n",
    "len(ill1_numb_part1.columns)"
   ]
  },
  {
   "cell_type": "code",
   "execution_count": 74,
   "metadata": {},
   "outputs": [
    {
     "data": {
      "text/plain": [
       "(1033, 1991)"
      ]
     },
     "execution_count": 74,
     "metadata": {},
     "output_type": "execute_result"
    }
   ],
   "source": [
    "# add the second kraken2 run\n",
    "ill = ill1_numb_part1.merge(ill2b_numb_part1, how='outer', on='name')\n",
    "ill = ill.merge(ill2w_numb_part1, how='outer', on='name')\n",
    "# fill NaN with 0\n",
    "ill = ill.fillna(0)\n",
    "ill.to_csv('results/Illumina_final_numb_part1.csv', index=False)\n",
    "\n",
    "ill.shape"
   ]
  },
  {
   "cell_type": "markdown",
   "metadata": {},
   "source": [
    "# BGI"
   ]
  },
  {
   "cell_type": "markdown",
   "metadata": {},
   "source": [
    "## BGI abud"
   ]
  },
  {
   "cell_type": "code",
   "execution_count": 75,
   "metadata": {},
   "outputs": [
    {
     "data": {
      "text/plain": [
       "(79243, 1991)"
      ]
     },
     "execution_count": 75,
     "metadata": {},
     "output_type": "execute_result"
    }
   ],
   "source": [
    "bgi_abud_all = pd.read_csv('input/BGI_kraken1_abud_all.csv')\n",
    "bgi_abud_all.shape"
   ]
  },
  {
   "cell_type": "code",
   "execution_count": 77,
   "metadata": {},
   "outputs": [
    {
     "data": {
      "text/plain": [
       "(3078, 1990)"
      ]
     },
     "execution_count": 77,
     "metadata": {},
     "output_type": "execute_result"
    }
   ],
   "source": [
    "# subset only bacteria with abundance > 0.1%\n",
    "bgi_round = bgi_abud_all.copy().set_index('name')\n",
    "bgi_round[bgi_round <= 0.001] = 0\n",
    "# drop raws with all zeros\n",
    "bgi_abud_part2 = bgi_round[(bgi_round.T != 0).any()]\n",
    "bgi_abud_part2.to_csv('results/BGI_final_abud_part2.csv')\n",
    "\n",
    "bgi_abud_part2.shape\n"
   ]
  },
  {
   "cell_type": "code",
   "execution_count": 76,
   "metadata": {},
   "outputs": [
    {
     "data": {
      "text/plain": [
       "(976, 1991)"
      ]
     },
     "execution_count": 76,
     "metadata": {},
     "output_type": "execute_result"
    }
   ],
   "source": [
    "bgi_abud_part1 = pd.read_csv('input/BGI_kraken1_abud_part1.csv')\n",
    "bgi_abud_part1.shape"
   ]
  },
  {
   "cell_type": "markdown",
   "metadata": {},
   "source": [
    "## BGI numb"
   ]
  },
  {
   "cell_type": "code",
   "execution_count": 79,
   "metadata": {},
   "outputs": [
    {
     "data": {
      "text/plain": [
       "(79243, 1991)"
      ]
     },
     "execution_count": 79,
     "metadata": {},
     "output_type": "execute_result"
    }
   ],
   "source": [
    "bgi_numb_all = pd.read_csv('input/BGI_kraken1_numb_all.csv')\n",
    "bgi_numb_all.shape"
   ]
  },
  {
   "cell_type": "code",
   "execution_count": 81,
   "metadata": {},
   "outputs": [
    {
     "data": {
      "text/plain": [
       "3078"
      ]
     },
     "execution_count": 81,
     "metadata": {},
     "output_type": "execute_result"
    }
   ],
   "source": [
    "# subset only bacteria with abundance > 0.1%\n",
    "bgi_round = bgi_numb_all.copy().set_index('name')\n",
    "\n",
    "\n",
    "# subset only bacteria with abundance > 0.1%\n",
    "bgi_part2_bact = pd.read_csv('results/BGI_final_abud_part2.csv')\n",
    "nm = bgi_part2_bact['name'].to_frame()\n",
    "nm.merge(bgi_numb_all, how='inner', on='name').to_csv('results/BGI_final_numb_part2.csv', index=False)\n",
    "\n",
    "len(nm.merge(bgi_numb_all, how='inner', on='name'))"
   ]
  },
  {
   "cell_type": "code",
   "execution_count": 80,
   "metadata": {},
   "outputs": [
    {
     "data": {
      "text/plain": [
       "(976, 1991)"
      ]
     },
     "execution_count": 80,
     "metadata": {},
     "output_type": "execute_result"
    }
   ],
   "source": [
    "bgi_numb_part1 = pd.read_csv('input/BGI_kraken1_numb_part1.csv')\n",
    "bgi_numb_part1.shape"
   ]
  }
 ],
 "metadata": {
  "kernelspec": {
   "display_name": "Python 3",
   "language": "python",
   "name": "python3"
  },
  "language_info": {
   "codemirror_mode": {
    "name": "ipython",
    "version": 3
   },
   "file_extension": ".py",
   "mimetype": "text/x-python",
   "name": "python",
   "nbconvert_exporter": "python",
   "pygments_lexer": "ipython3",
   "version": "3.9.6"
  }
 },
 "nbformat": 4,
 "nbformat_minor": 2
}

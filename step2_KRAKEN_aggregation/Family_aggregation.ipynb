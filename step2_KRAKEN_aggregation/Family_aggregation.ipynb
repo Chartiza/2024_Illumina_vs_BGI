{
 "cells": [
  {
   "cell_type": "code",
   "execution_count": 1,
   "metadata": {},
   "outputs": [],
   "source": [
    "# import packages\n",
    "import matplotlib.pyplot as plt\n",
    "import pandas as pd\n",
    "import seaborn as sns \n",
    "from datetime import date"
   ]
  },
  {
   "attachments": {},
   "cell_type": "markdown",
   "metadata": {},
   "source": [
    "## Prepare the input"
   ]
  },
  {
   "cell_type": "code",
   "execution_count": 2,
   "metadata": {},
   "outputs": [
    {
     "data": {
      "text/html": [
       "<div>\n",
       "<style scoped>\n",
       "    .dataframe tbody tr th:only-of-type {\n",
       "        vertical-align: middle;\n",
       "    }\n",
       "\n",
       "    .dataframe tbody tr th {\n",
       "        vertical-align: top;\n",
       "    }\n",
       "\n",
       "    .dataframe thead th {\n",
       "        text-align: right;\n",
       "    }\n",
       "</style>\n",
       "<table border=\"1\" class=\"dataframe\">\n",
       "  <thead>\n",
       "    <tr style=\"text-align: right;\">\n",
       "      <th></th>\n",
       "      <th>domain</th>\n",
       "      <th>phylum</th>\n",
       "      <th>class</th>\n",
       "      <th>order</th>\n",
       "      <th>family</th>\n",
       "      <th>genus</th>\n",
       "      <th>sp</th>\n",
       "    </tr>\n",
       "  </thead>\n",
       "  <tbody>\n",
       "    <tr>\n",
       "      <th>0</th>\n",
       "      <td>Bacteria</td>\n",
       "      <td>Pseudomonadota</td>\n",
       "      <td>Gammaproteobacteria</td>\n",
       "      <td>Enterobacterales</td>\n",
       "      <td>Enterobacteriaceae</td>\n",
       "      <td>Escherichia</td>\n",
       "      <td>Escherichia coli</td>\n",
       "    </tr>\n",
       "    <tr>\n",
       "      <th>33849</th>\n",
       "      <td>Bacteria</td>\n",
       "      <td>Pseudomonadota</td>\n",
       "      <td>Gammaproteobacteria</td>\n",
       "      <td>Enterobacterales</td>\n",
       "      <td>Enterobacteriaceae</td>\n",
       "      <td>Klebsiella</td>\n",
       "      <td>Klebsiella pneumoniae</td>\n",
       "    </tr>\n",
       "  </tbody>\n",
       "</table>\n",
       "</div>"
      ],
      "text/plain": [
       "         domain          phylum                class             order  \\\n",
       "0      Bacteria  Pseudomonadota  Gammaproteobacteria  Enterobacterales   \n",
       "33849  Bacteria  Pseudomonadota  Gammaproteobacteria  Enterobacterales   \n",
       "\n",
       "                   family        genus                     sp  \n",
       "0      Enterobacteriaceae  Escherichia       Escherichia coli  \n",
       "33849  Enterobacteriaceae   Klebsiella  Klebsiella pneumoniae  "
      ]
     },
     "execution_count": 2,
     "metadata": {},
     "output_type": "execute_result"
    }
   ],
   "source": [
    "colnames = ['dom','phylum','class','order','family','genus','sp']\n",
    "\n",
    "bac = pd.read_csv('/Users/katerynapantiukh/Documents/1MyDisk/Code/Microbiome/gtdb_vizualization/input/bac120_taxonomy_r214.tsv', sep=';', names=colnames, header=None)\n",
    "\n",
    "bac['domain'] = bac['dom'].str.split('__', expand=True)[1]\n",
    "bac['phylum'] = bac['phylum'].str.replace(r'p__', '')\n",
    "bac['class'] = bac['class'].str.replace(r'c__', '')\n",
    "bac['order'] = bac['order'].str.replace(r'o__', '')\n",
    "bac['family'] = bac['family'].str.replace(r'f__', '')\n",
    "bac['genus'] = bac['genus'].str.replace(r'g__', '')\n",
    "bac['sp'] = bac['sp'].str.replace(r's__', '')\n",
    "bac = bac[['domain','phylum','class','order','family','genus','sp']]\n",
    "bac = bac.drop_duplicates()\n",
    "\n",
    "bac.head(2)"
   ]
  },
  {
   "cell_type": "markdown",
   "metadata": {},
   "source": [
    "## ABUD. Part1 data aggregation"
   ]
  },
  {
   "cell_type": "code",
   "execution_count": 3,
   "metadata": {},
   "outputs": [
    {
     "name": "stderr",
     "output_type": "stream",
     "text": [
      "/var/folders/5j/pvj6k02n3mn9ztpn77vjtfzw0000gn/T/ipykernel_45377/3151054927.py:4: FutureWarning: In a future version of pandas all arguments of StringMethods.split except for the argument 'pat' will be keyword-only.\n",
      "  bgi['name'] = bgi['name'].str.split(' ', 1).str[0]\n",
      "/var/folders/5j/pvj6k02n3mn9ztpn77vjtfzw0000gn/T/ipykernel_45377/3151054927.py:10: FutureWarning: In a future version of pandas all arguments of StringMethods.split except for the argument 'pat' will be keyword-only.\n",
      "  ill['name'] = ill['name'].str.split(' ', 1).str[0]\n"
     ]
    }
   ],
   "source": [
    "# read BGI input\n",
    "bgi = pd.read_csv('results/Cross-Platform_set_results/BGI_final_abud_part1.csv')\n",
    "# split name column by first space\n",
    "bgi['name'] = bgi['name'].str.split(' ', 1).str[0]\n",
    "bgi = bgi.groupby('name').sum().reset_index()\n",
    "\n",
    "# read Illumina input\n",
    "ill = pd.read_csv('results/Cross-Platform_set_results/Illumina_final_abud_part1.csv')\n",
    "# split name column by first space\n",
    "ill['name'] = ill['name'].str.split(' ', 1).str[0]\n",
    "ill = ill.groupby('name').sum().reset_index()"
   ]
  },
  {
   "cell_type": "code",
   "execution_count": 4,
   "metadata": {},
   "outputs": [
    {
     "name": "stderr",
     "output_type": "stream",
     "text": [
      "/var/folders/5j/pvj6k02n3mn9ztpn77vjtfzw0000gn/T/ipykernel_45377/3589456809.py:4: FutureWarning: The default value of numeric_only in DataFrameGroupBy.sum is deprecated. In a future version, numeric_only will default to False. Either specify numeric_only or select only columns which should be valid for the function.\n",
      "  fam = fam.groupby('family').sum().reset_index()\n"
     ]
    }
   ],
   "source": [
    "# map family column from bac df to bgi based on genus\n",
    "fam = pd.merge(bgi, bac[['genus', 'family']], left_on='name', right_on='genus', how='left')\n",
    "fam.drop(columns=['genus']).drop(columns=['name'])\n",
    "fam = fam.groupby('family').sum().reset_index()\n",
    "\n",
    "fam.to_excel('results/Cross-Platform_set_aggregation/Family_BGI_abud_part1.xlsx', index=False)"
   ]
  },
  {
   "cell_type": "code",
   "execution_count": 5,
   "metadata": {},
   "outputs": [
    {
     "name": "stderr",
     "output_type": "stream",
     "text": [
      "/var/folders/5j/pvj6k02n3mn9ztpn77vjtfzw0000gn/T/ipykernel_45377/3866598851.py:4: FutureWarning: The default value of numeric_only in DataFrameGroupBy.sum is deprecated. In a future version, numeric_only will default to False. Either specify numeric_only or select only columns which should be valid for the function.\n",
      "  fam = fam.groupby('family').sum().reset_index()\n"
     ]
    }
   ],
   "source": [
    "# map family column from bac df to bgi based on genus\n",
    "fam = pd.merge(ill, bac[['genus', 'family']], left_on='name', right_on='genus', how='left')\n",
    "fam.drop(columns=['genus']).drop(columns=['name'])\n",
    "fam = fam.groupby('family').sum().reset_index()\n",
    "\n",
    "fam.to_excel('results/Cross-Platform_set_aggregation/Family_Illumina_abud_part1.xlsx', index=False)"
   ]
  },
  {
   "cell_type": "markdown",
   "metadata": {},
   "source": [
    "## ABUD. Part2 data aggregation"
   ]
  },
  {
   "cell_type": "code",
   "execution_count": 6,
   "metadata": {},
   "outputs": [
    {
     "name": "stderr",
     "output_type": "stream",
     "text": [
      "/var/folders/5j/pvj6k02n3mn9ztpn77vjtfzw0000gn/T/ipykernel_45377/1120491929.py:4: FutureWarning: In a future version of pandas all arguments of StringMethods.split except for the argument 'pat' will be keyword-only.\n",
      "  bgi['name'] = bgi['name'].str.split(' ', 1).str[0]\n",
      "/var/folders/5j/pvj6k02n3mn9ztpn77vjtfzw0000gn/T/ipykernel_45377/1120491929.py:10: FutureWarning: In a future version of pandas all arguments of StringMethods.split except for the argument 'pat' will be keyword-only.\n",
      "  ill['name'] = ill['name'].str.split(' ', 1).str[0]\n"
     ]
    }
   ],
   "source": [
    "# read BGI input\n",
    "bgi = pd.read_csv('results/Cross-Platform_set_results/BGI_final_abud_part2.csv')\n",
    "# split name column by first space\n",
    "bgi['name'] = bgi['name'].str.split(' ', 1).str[0]\n",
    "bgi = bgi.groupby('name').sum().reset_index()\n",
    "\n",
    "# read Illumina input\n",
    "ill = pd.read_csv('results/Cross-Platform_set_results/Illumina_final_abud_part2.csv')\n",
    "# split name column by first space\n",
    "ill['name'] = ill['name'].str.split(' ', 1).str[0]\n",
    "ill = ill.groupby('name').sum().reset_index()"
   ]
  },
  {
   "cell_type": "code",
   "execution_count": 7,
   "metadata": {},
   "outputs": [
    {
     "name": "stderr",
     "output_type": "stream",
     "text": [
      "/var/folders/5j/pvj6k02n3mn9ztpn77vjtfzw0000gn/T/ipykernel_45377/4257703419.py:4: FutureWarning: The default value of numeric_only in DataFrameGroupBy.sum is deprecated. In a future version, numeric_only will default to False. Either specify numeric_only or select only columns which should be valid for the function.\n",
      "  fam = fam.groupby('family').sum().reset_index()\n"
     ]
    }
   ],
   "source": [
    "# map family column from bac df to bgi based on genus\n",
    "fam = pd.merge(bgi, bac[['genus', 'family']], left_on='name', right_on='genus', how='left')\n",
    "fam.drop(columns=['genus']).drop(columns=['name'])\n",
    "fam = fam.groupby('family').sum().reset_index()\n",
    "\n",
    "fam.to_excel('results/Cross-Platform_set_aggregation/Family_BGI_abud_part2.xlsx', index=False)"
   ]
  },
  {
   "cell_type": "code",
   "execution_count": 8,
   "metadata": {},
   "outputs": [
    {
     "name": "stderr",
     "output_type": "stream",
     "text": [
      "/var/folders/5j/pvj6k02n3mn9ztpn77vjtfzw0000gn/T/ipykernel_45377/3098545482.py:4: FutureWarning: The default value of numeric_only in DataFrameGroupBy.sum is deprecated. In a future version, numeric_only will default to False. Either specify numeric_only or select only columns which should be valid for the function.\n",
      "  fam = fam.groupby('family').sum().reset_index()\n"
     ]
    }
   ],
   "source": [
    "# map family column from bac df to bgi based on genus\n",
    "fam = pd.merge(ill, bac[['genus', 'family']], left_on='name', right_on='genus', how='left')\n",
    "fam.drop(columns=['genus']).drop(columns=['name'])\n",
    "fam = fam.groupby('family').sum().reset_index()\n",
    "\n",
    "fam.to_excel('results/Cross-Platform_set_aggregation/Family_Illumina_abud_part2.xlsx', index=False)"
   ]
  },
  {
   "cell_type": "markdown",
   "metadata": {},
   "source": [
    "## ABUD. All data aggregation"
   ]
  },
  {
   "cell_type": "code",
   "execution_count": 6,
   "metadata": {},
   "outputs": [
    {
     "name": "stderr",
     "output_type": "stream",
     "text": [
      "/var/folders/5j/pvj6k02n3mn9ztpn77vjtfzw0000gn/T/ipykernel_52567/4098930934.py:4: FutureWarning: In a future version of pandas all arguments of StringMethods.split except for the argument 'pat' will be keyword-only.\n",
      "  bgi['name'] = bgi['name'].str.split(' ', 1).str[0]\n"
     ]
    }
   ],
   "source": [
    "# read BGI input\n",
    "bgi = pd.read_csv('input/BGI_merged_output_all.csv')\n",
    "# split name column by first space\n",
    "bgi['name'] = bgi['name'].str.split(' ', 1).str[0]\n",
    "bgi = bgi.groupby('name').sum().reset_index()"
   ]
  },
  {
   "cell_type": "code",
   "execution_count": 7,
   "metadata": {},
   "outputs": [
    {
     "name": "stderr",
     "output_type": "stream",
     "text": [
      "/var/folders/5j/pvj6k02n3mn9ztpn77vjtfzw0000gn/T/ipykernel_52567/2969242045.py:4: FutureWarning: The default value of numeric_only in DataFrameGroupBy.sum is deprecated. In a future version, numeric_only will default to False. Either specify numeric_only or select only columns which should be valid for the function.\n",
      "  fam = fam.groupby('family').sum().reset_index()\n"
     ]
    }
   ],
   "source": [
    "# map family column from bac df to bgi based on genus\n",
    "fam = pd.merge(bgi, bac[['genus', 'family']], left_on='name', right_on='genus', how='left')\n",
    "fam.drop(columns=['genus']).drop(columns=['name'])\n",
    "fam = fam.groupby('family').sum().reset_index()\n",
    "\n",
    "fam.to_excel('results/aggregation/abud/Family_BGI_merged_output_all.xlsx', index=False)"
   ]
  },
  {
   "cell_type": "code",
   "execution_count": 8,
   "metadata": {},
   "outputs": [
    {
     "name": "stderr",
     "output_type": "stream",
     "text": [
      "/var/folders/5j/pvj6k02n3mn9ztpn77vjtfzw0000gn/T/ipykernel_52567/346061945.py:4: FutureWarning: In a future version of pandas all arguments of StringMethods.split except for the argument 'pat' will be keyword-only.\n",
      "  ill['name'] = ill['name'].str.split(' ', 1).str[0]\n"
     ]
    }
   ],
   "source": [
    "# read Illumina input\n",
    "ill = pd.read_csv('input/Illumina_merged_output_all.csv')\n",
    "# split name column by first space\n",
    "ill['name'] = ill['name'].str.split(' ', 1).str[0]\n",
    "ill = ill.groupby('name').sum().reset_index()"
   ]
  },
  {
   "cell_type": "code",
   "execution_count": 9,
   "metadata": {},
   "outputs": [
    {
     "name": "stderr",
     "output_type": "stream",
     "text": [
      "/var/folders/5j/pvj6k02n3mn9ztpn77vjtfzw0000gn/T/ipykernel_52567/990957947.py:4: FutureWarning: The default value of numeric_only in DataFrameGroupBy.sum is deprecated. In a future version, numeric_only will default to False. Either specify numeric_only or select only columns which should be valid for the function.\n",
      "  fam = fam.groupby('family').sum().reset_index()\n"
     ]
    }
   ],
   "source": [
    "# map family column from bac df to bgi based on genus\n",
    "fam = pd.merge(ill, bac[['genus', 'family']], left_on='name', right_on='genus', how='left')\n",
    "fam.drop(columns=['genus']).drop(columns=['name'])\n",
    "fam = fam.groupby('family').sum().reset_index()\n",
    "\n",
    "fam.to_excel('results/aggregation/abud/Family_Illumina_merged_output_all.xlsx', index=False)"
   ]
  },
  {
   "cell_type": "markdown",
   "metadata": {},
   "source": [
    "## NUMB. Part1 data aggregation"
   ]
  },
  {
   "cell_type": "code",
   "execution_count": 13,
   "metadata": {},
   "outputs": [
    {
     "name": "stderr",
     "output_type": "stream",
     "text": [
      "/var/folders/5j/pvj6k02n3mn9ztpn77vjtfzw0000gn/T/ipykernel_45377/773658788.py:4: FutureWarning: In a future version of pandas all arguments of StringMethods.split except for the argument 'pat' will be keyword-only.\n",
      "  bgi['name'] = bgi['name'].str.split(' ', 1).str[0]\n",
      "/var/folders/5j/pvj6k02n3mn9ztpn77vjtfzw0000gn/T/ipykernel_45377/773658788.py:10: FutureWarning: In a future version of pandas all arguments of StringMethods.split except for the argument 'pat' will be keyword-only.\n",
      "  ill['name'] = ill['name'].str.split(' ', 1).str[0]\n"
     ]
    }
   ],
   "source": [
    "# read BGI input\n",
    "bgi = pd.read_csv('results/Cross-Platform_set_results/BGI_final_numb_part1.csv')\n",
    "# split name column by first space\n",
    "bgi['name'] = bgi['name'].str.split(' ', 1).str[0]\n",
    "bgi = bgi.groupby('name').sum().reset_index()\n",
    "\n",
    "# read Illumina input\n",
    "ill = pd.read_csv('results/Cross-Platform_set_results/Illumina_final_numb_part1.csv')\n",
    "# split name column by first space\n",
    "ill['name'] = ill['name'].str.split(' ', 1).str[0]\n",
    "ill = ill.groupby('name').sum().reset_index()"
   ]
  },
  {
   "cell_type": "code",
   "execution_count": 14,
   "metadata": {},
   "outputs": [
    {
     "name": "stderr",
     "output_type": "stream",
     "text": [
      "/var/folders/5j/pvj6k02n3mn9ztpn77vjtfzw0000gn/T/ipykernel_45377/3285109759.py:4: FutureWarning: The default value of numeric_only in DataFrameGroupBy.sum is deprecated. In a future version, numeric_only will default to False. Either specify numeric_only or select only columns which should be valid for the function.\n",
      "  fam = fam.groupby('family').sum().reset_index()\n"
     ]
    }
   ],
   "source": [
    "# map family column from bac df to bgi based on genus\n",
    "fam = pd.merge(bgi, bac[['genus', 'family']], left_on='name', right_on='genus', how='left')\n",
    "fam.drop(columns=['genus']).drop(columns=['name'])\n",
    "fam = fam.groupby('family').sum().reset_index()\n",
    "\n",
    "fam.to_excel('results/Cross-Platform_set_aggregation/Family_BGI_numb_part1.xlsx', index=False)"
   ]
  },
  {
   "cell_type": "code",
   "execution_count": 15,
   "metadata": {},
   "outputs": [
    {
     "name": "stderr",
     "output_type": "stream",
     "text": [
      "/var/folders/5j/pvj6k02n3mn9ztpn77vjtfzw0000gn/T/ipykernel_45377/2975419175.py:4: FutureWarning: The default value of numeric_only in DataFrameGroupBy.sum is deprecated. In a future version, numeric_only will default to False. Either specify numeric_only or select only columns which should be valid for the function.\n",
      "  fam = fam.groupby('family').sum().reset_index()\n"
     ]
    }
   ],
   "source": [
    "# map family column from bac df to bgi based on genus\n",
    "fam = pd.merge(ill, bac[['genus', 'family']], left_on='name', right_on='genus', how='left')\n",
    "fam.drop(columns=['genus']).drop(columns=['name'])\n",
    "fam = fam.groupby('family').sum().reset_index()\n",
    "\n",
    "fam.to_excel('results/Cross-Platform_set_aggregation/Family_Illumina_numb_part1.xlsx', index=False)"
   ]
  },
  {
   "cell_type": "markdown",
   "metadata": {},
   "source": [
    "## NUMB. Part2 data aggregation"
   ]
  },
  {
   "cell_type": "code",
   "execution_count": 16,
   "metadata": {},
   "outputs": [
    {
     "name": "stderr",
     "output_type": "stream",
     "text": [
      "/var/folders/5j/pvj6k02n3mn9ztpn77vjtfzw0000gn/T/ipykernel_45377/2423156863.py:4: FutureWarning: In a future version of pandas all arguments of StringMethods.split except for the argument 'pat' will be keyword-only.\n",
      "  bgi['name'] = bgi['name'].str.split(' ', 1).str[0]\n",
      "/var/folders/5j/pvj6k02n3mn9ztpn77vjtfzw0000gn/T/ipykernel_45377/2423156863.py:10: FutureWarning: In a future version of pandas all arguments of StringMethods.split except for the argument 'pat' will be keyword-only.\n",
      "  ill['name'] = ill['name'].str.split(' ', 1).str[0]\n"
     ]
    }
   ],
   "source": [
    "# read BGI input\n",
    "bgi = pd.read_csv('results/Cross-Platform_set_results/BGI_final_numb_part2.csv')\n",
    "# split name column by first space\n",
    "bgi['name'] = bgi['name'].str.split(' ', 1).str[0]\n",
    "bgi = bgi.groupby('name').sum().reset_index()\n",
    "\n",
    "# read Illumina input\n",
    "ill = pd.read_csv('results/Cross-Platform_set_results/Illumina_final_numb_part2.csv')\n",
    "# split name column by first space\n",
    "ill['name'] = ill['name'].str.split(' ', 1).str[0]\n",
    "ill = ill.groupby('name').sum().reset_index()"
   ]
  },
  {
   "cell_type": "code",
   "execution_count": 17,
   "metadata": {},
   "outputs": [
    {
     "name": "stderr",
     "output_type": "stream",
     "text": [
      "/var/folders/5j/pvj6k02n3mn9ztpn77vjtfzw0000gn/T/ipykernel_45377/349814002.py:4: FutureWarning: The default value of numeric_only in DataFrameGroupBy.sum is deprecated. In a future version, numeric_only will default to False. Either specify numeric_only or select only columns which should be valid for the function.\n",
      "  fam = fam.groupby('family').sum().reset_index()\n"
     ]
    }
   ],
   "source": [
    "# map family column from bac df to bgi based on genus\n",
    "fam = pd.merge(bgi, bac[['genus', 'family']], left_on='name', right_on='genus', how='left')\n",
    "fam.drop(columns=['genus']).drop(columns=['name'])\n",
    "fam = fam.groupby('family').sum().reset_index()\n",
    "\n",
    "fam.to_excel('results/Cross-Platform_set_aggregation/Family_BGI_numb_part2.xlsx', index=False)"
   ]
  },
  {
   "cell_type": "code",
   "execution_count": 18,
   "metadata": {},
   "outputs": [
    {
     "name": "stderr",
     "output_type": "stream",
     "text": [
      "/var/folders/5j/pvj6k02n3mn9ztpn77vjtfzw0000gn/T/ipykernel_45377/4002195499.py:4: FutureWarning: The default value of numeric_only in DataFrameGroupBy.sum is deprecated. In a future version, numeric_only will default to False. Either specify numeric_only or select only columns which should be valid for the function.\n",
      "  fam = fam.groupby('family').sum().reset_index()\n"
     ]
    }
   ],
   "source": [
    "# map family column from bac df to bgi based on genus\n",
    "fam = pd.merge(ill, bac[['genus', 'family']], left_on='name', right_on='genus', how='left')\n",
    "fam.drop(columns=['genus']).drop(columns=['name'])\n",
    "fam = fam.groupby('family').sum().reset_index()\n",
    "\n",
    "fam.to_excel('results/Cross-Platform_set_aggregation/Family_Illumina_numb_part2.xlsx', index=False)"
   ]
  },
  {
   "cell_type": "markdown",
   "metadata": {},
   "source": [
    "## NUMB. All data aggregation"
   ]
  },
  {
   "cell_type": "code",
   "execution_count": 19,
   "metadata": {},
   "outputs": [
    {
     "name": "stderr",
     "output_type": "stream",
     "text": [
      "/var/folders/5j/pvj6k02n3mn9ztpn77vjtfzw0000gn/T/ipykernel_52567/4098930934.py:4: FutureWarning: In a future version of pandas all arguments of StringMethods.split except for the argument 'pat' will be keyword-only.\n",
      "  bgi['name'] = bgi['name'].str.split(' ', 1).str[0]\n"
     ]
    }
   ],
   "source": [
    "# read BGI input\n",
    "bgi = pd.read_csv('input/BGI_merged_output_all_numb.csv')\n",
    "# split name column by first space\n",
    "bgi['name'] = bgi['name'].str.split(' ', 1).str[0]\n",
    "bgi = bgi.groupby('name').sum().reset_index()"
   ]
  },
  {
   "cell_type": "code",
   "execution_count": 20,
   "metadata": {},
   "outputs": [
    {
     "name": "stderr",
     "output_type": "stream",
     "text": [
      "/var/folders/5j/pvj6k02n3mn9ztpn77vjtfzw0000gn/T/ipykernel_52567/1904237101.py:4: FutureWarning: The default value of numeric_only in DataFrameGroupBy.sum is deprecated. In a future version, numeric_only will default to False. Either specify numeric_only or select only columns which should be valid for the function.\n",
      "  fam = fam.groupby('family').sum().reset_index()\n"
     ]
    }
   ],
   "source": [
    "# map family column from bac df to bgi based on genus\n",
    "fam = pd.merge(bgi, bac[['genus', 'family']], left_on='name', right_on='genus', how='left')\n",
    "fam.drop(columns=['genus']).drop(columns=['name'])\n",
    "fam = fam.groupby('family').sum().reset_index()\n",
    "\n",
    "fam.to_excel('results/aggregation/numb/Family_BGI_merged_output_all_numb.xlsx', index=False)"
   ]
  },
  {
   "cell_type": "code",
   "execution_count": 21,
   "metadata": {},
   "outputs": [
    {
     "name": "stderr",
     "output_type": "stream",
     "text": [
      "/var/folders/5j/pvj6k02n3mn9ztpn77vjtfzw0000gn/T/ipykernel_52567/3806241746.py:4: FutureWarning: In a future version of pandas all arguments of StringMethods.split except for the argument 'pat' will be keyword-only.\n",
      "  ill['name'] = ill['name'].str.split(' ', 1).str[0]\n"
     ]
    }
   ],
   "source": [
    "# read Illumina input\n",
    "ill = pd.read_csv('input/Illumina_merged_output_all_numb.csv')\n",
    "# split name column by first space\n",
    "ill['name'] = ill['name'].str.split(' ', 1).str[0]\n",
    "ill = ill.groupby('name').sum().reset_index()"
   ]
  },
  {
   "cell_type": "code",
   "execution_count": 22,
   "metadata": {},
   "outputs": [
    {
     "name": "stderr",
     "output_type": "stream",
     "text": [
      "/var/folders/5j/pvj6k02n3mn9ztpn77vjtfzw0000gn/T/ipykernel_52567/2875869380.py:4: FutureWarning: The default value of numeric_only in DataFrameGroupBy.sum is deprecated. In a future version, numeric_only will default to False. Either specify numeric_only or select only columns which should be valid for the function.\n",
      "  fam = fam.groupby('family').sum().reset_index()\n"
     ]
    }
   ],
   "source": [
    "# map family column from bac df to bgi based on genus\n",
    "fam = pd.merge(ill, bac[['genus', 'family']], left_on='name', right_on='genus', how='left')\n",
    "fam.drop(columns=['genus']).drop(columns=['name'])\n",
    "fam = fam.groupby('family').sum().reset_index()\n",
    "\n",
    "fam.to_excel('results/aggregation/numb/Family_Illumina_merged_output_all_numb.xlsx', index=False)"
   ]
  }
 ],
 "metadata": {
  "kernelspec": {
   "display_name": "Python 3",
   "language": "python",
   "name": "python3"
  },
  "language_info": {
   "codemirror_mode": {
    "name": "ipython",
    "version": 3
   },
   "file_extension": ".py",
   "mimetype": "text/x-python",
   "name": "python",
   "nbconvert_exporter": "python",
   "pygments_lexer": "ipython3",
   "version": "3.9.6"
  }
 },
 "nbformat": 4,
 "nbformat_minor": 2
}
